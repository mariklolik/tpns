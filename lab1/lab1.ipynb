{
 "cells": [
  {
   "cell_type": "code",
   "execution_count": 1,
   "id": "3fbab411",
   "metadata": {},
   "outputs": [],
   "source": [
    "import pandas as pd\n",
    "\n",
    "from lightgbm import LGBMClassifier\n",
    "from sklearn.metrics import roc_auc_score\n",
    "from sklearn.model_selection import train_test_split\n",
    "\n",
    "import numpy as np\n",
    "from sklearn.ensemble import RandomForestClassifier, AdaBoostClassifier, GradientBoostingClassifier, ExtraTreesClassifier\n",
    "from sklearn.discriminant_analysis import LinearDiscriminantAnalysis\n",
    "from sklearn.linear_model import LogisticRegression\n",
    "from sklearn.neighbors import KNeighborsClassifier\n",
    "from sklearn.dummy import DummyClassifier \n",
    "from sklearn.tree import DecisionTreeClassifier\n",
    "from sklearn.neural_network import MLPClassifier\n",
    "from sklearn.naive_bayes import GaussianNB\n",
    "from xgboost import XGBClassifier\n",
    "from catboost import CatBoostClassifier\n",
    "from sklearn.ensemble import RandomForestClassifier\n",
    "from sklearn.model_selection import GridSearchCV, train_test_split, KFold, cross_validate\n",
    "from sklearn.metrics import classification_report\n",
    "from sklearn.metrics import accuracy_score\n",
    "from sklearn.metrics import precision_score\n",
    "from sklearn.metrics import recall_score\n",
    "from sklearn.metrics import balanced_accuracy_score, average_precision_score\n",
    "from sklearn.metrics import f1_score\n",
    "import numpy as np # linear algebra\n",
    "import pandas as pd # data processing, CSV file I/O (e.g. pd.read_csv)\n",
    "import matplotlib.pyplot as plt # for data visualization\n",
    "import seaborn as sns # for statistical data visualization\n",
    "import pylab \n",
    "import scipy.stats as stats\n",
    "import datetime\n",
    "\n",
    "from scipy import stats\n",
    "from scipy.stats import norm, skew #for some statistics\n",
    "\n",
    "# ignore warnings\n",
    "\n",
    "import warnings\n",
    "warnings.filterwarnings('ignore')"
   ]
  },
  {
   "cell_type": "code",
   "execution_count": 2,
   "id": "ca2157c6",
   "metadata": {},
   "outputs": [],
   "source": [
    "train_df = pd.read_csv('Laptop_price.csv')\n"
   ]
  },
  {
   "cell_type": "code",
   "execution_count": 3,
   "id": "471f9e04",
   "metadata": {},
   "outputs": [
    {
     "data": {
      "text/html": [
       "<div>\n",
       "<style scoped>\n",
       "    .dataframe tbody tr th:only-of-type {\n",
       "        vertical-align: middle;\n",
       "    }\n",
       "\n",
       "    .dataframe tbody tr th {\n",
       "        vertical-align: top;\n",
       "    }\n",
       "\n",
       "    .dataframe thead th {\n",
       "        text-align: right;\n",
       "    }\n",
       "</style>\n",
       "<table border=\"1\" class=\"dataframe\">\n",
       "  <thead>\n",
       "    <tr style=\"text-align: right;\">\n",
       "      <th></th>\n",
       "      <th>Brand</th>\n",
       "      <th>Processor_Speed</th>\n",
       "      <th>RAM_Size</th>\n",
       "      <th>Storage_Capacity</th>\n",
       "      <th>Screen_Size</th>\n",
       "      <th>Weight</th>\n",
       "      <th>Price</th>\n",
       "    </tr>\n",
       "  </thead>\n",
       "  <tbody>\n",
       "    <tr>\n",
       "      <th>0</th>\n",
       "      <td>Asus</td>\n",
       "      <td>3.830296</td>\n",
       "      <td>16</td>\n",
       "      <td>512</td>\n",
       "      <td>11.185147</td>\n",
       "      <td>2.641094</td>\n",
       "      <td>17395.093065</td>\n",
       "    </tr>\n",
       "    <tr>\n",
       "      <th>1</th>\n",
       "      <td>Acer</td>\n",
       "      <td>2.912833</td>\n",
       "      <td>4</td>\n",
       "      <td>1000</td>\n",
       "      <td>11.311372</td>\n",
       "      <td>3.260012</td>\n",
       "      <td>31607.605919</td>\n",
       "    </tr>\n",
       "    <tr>\n",
       "      <th>2</th>\n",
       "      <td>Lenovo</td>\n",
       "      <td>3.241627</td>\n",
       "      <td>4</td>\n",
       "      <td>256</td>\n",
       "      <td>11.853023</td>\n",
       "      <td>2.029061</td>\n",
       "      <td>9291.023542</td>\n",
       "    </tr>\n",
       "    <tr>\n",
       "      <th>3</th>\n",
       "      <td>Acer</td>\n",
       "      <td>3.806248</td>\n",
       "      <td>16</td>\n",
       "      <td>512</td>\n",
       "      <td>12.280360</td>\n",
       "      <td>4.573865</td>\n",
       "      <td>17436.728334</td>\n",
       "    </tr>\n",
       "    <tr>\n",
       "      <th>4</th>\n",
       "      <td>Acer</td>\n",
       "      <td>3.268097</td>\n",
       "      <td>32</td>\n",
       "      <td>1000</td>\n",
       "      <td>14.990877</td>\n",
       "      <td>4.193472</td>\n",
       "      <td>32917.990718</td>\n",
       "    </tr>\n",
       "  </tbody>\n",
       "</table>\n",
       "</div>"
      ],
      "text/plain": [
       "    Brand  Processor_Speed  RAM_Size  Storage_Capacity  Screen_Size    Weight  \\\n",
       "0    Asus         3.830296        16               512    11.185147  2.641094   \n",
       "1    Acer         2.912833         4              1000    11.311372  3.260012   \n",
       "2  Lenovo         3.241627         4               256    11.853023  2.029061   \n",
       "3    Acer         3.806248        16               512    12.280360  4.573865   \n",
       "4    Acer         3.268097        32              1000    14.990877  4.193472   \n",
       "\n",
       "          Price  \n",
       "0  17395.093065  \n",
       "1  31607.605919  \n",
       "2   9291.023542  \n",
       "3  17436.728334  \n",
       "4  32917.990718  "
      ]
     },
     "execution_count": 3,
     "metadata": {},
     "output_type": "execute_result"
    }
   ],
   "source": [
    "train_df.head()"
   ]
  },
  {
   "cell_type": "code",
   "execution_count": 4,
   "id": "f5ff78ef",
   "metadata": {},
   "outputs": [
    {
     "data": {
      "text/html": [
       "<div>\n",
       "<style scoped>\n",
       "    .dataframe tbody tr th:only-of-type {\n",
       "        vertical-align: middle;\n",
       "    }\n",
       "\n",
       "    .dataframe tbody tr th {\n",
       "        vertical-align: top;\n",
       "    }\n",
       "\n",
       "    .dataframe thead th {\n",
       "        text-align: right;\n",
       "    }\n",
       "</style>\n",
       "<table border=\"1\" class=\"dataframe\">\n",
       "  <thead>\n",
       "    <tr style=\"text-align: right;\">\n",
       "      <th></th>\n",
       "      <th>Processor_Speed</th>\n",
       "      <th>RAM_Size</th>\n",
       "      <th>Storage_Capacity</th>\n",
       "      <th>Screen_Size</th>\n",
       "      <th>Weight</th>\n",
       "      <th>Price</th>\n",
       "    </tr>\n",
       "  </thead>\n",
       "  <tbody>\n",
       "    <tr>\n",
       "      <th>count</th>\n",
       "      <td>1000.000000</td>\n",
       "      <td>1000.000000</td>\n",
       "      <td>1000.000000</td>\n",
       "      <td>1000.000000</td>\n",
       "      <td>1000.000000</td>\n",
       "      <td>1000.000000</td>\n",
       "    </tr>\n",
       "    <tr>\n",
       "      <th>mean</th>\n",
       "      <td>2.750611</td>\n",
       "      <td>15.500000</td>\n",
       "      <td>584.576000</td>\n",
       "      <td>14.056790</td>\n",
       "      <td>3.466919</td>\n",
       "      <td>19604.187963</td>\n",
       "    </tr>\n",
       "    <tr>\n",
       "      <th>std</th>\n",
       "      <td>0.731796</td>\n",
       "      <td>10.988665</td>\n",
       "      <td>313.438517</td>\n",
       "      <td>1.705882</td>\n",
       "      <td>0.866541</td>\n",
       "      <td>9406.064880</td>\n",
       "    </tr>\n",
       "    <tr>\n",
       "      <th>min</th>\n",
       "      <td>1.511580</td>\n",
       "      <td>4.000000</td>\n",
       "      <td>256.000000</td>\n",
       "      <td>11.012111</td>\n",
       "      <td>2.000560</td>\n",
       "      <td>8570.012950</td>\n",
       "    </tr>\n",
       "    <tr>\n",
       "      <th>25%</th>\n",
       "      <td>2.089246</td>\n",
       "      <td>8.000000</td>\n",
       "      <td>256.000000</td>\n",
       "      <td>12.635523</td>\n",
       "      <td>2.717211</td>\n",
       "      <td>10114.012948</td>\n",
       "    </tr>\n",
       "    <tr>\n",
       "      <th>50%</th>\n",
       "      <td>2.760885</td>\n",
       "      <td>16.000000</td>\n",
       "      <td>512.000000</td>\n",
       "      <td>14.099643</td>\n",
       "      <td>3.464630</td>\n",
       "      <td>17287.241878</td>\n",
       "    </tr>\n",
       "    <tr>\n",
       "      <th>75%</th>\n",
       "      <td>3.362610</td>\n",
       "      <td>32.000000</td>\n",
       "      <td>1000.000000</td>\n",
       "      <td>15.528590</td>\n",
       "      <td>4.212583</td>\n",
       "      <td>31566.214754</td>\n",
       "    </tr>\n",
       "    <tr>\n",
       "      <th>max</th>\n",
       "      <td>3.998534</td>\n",
       "      <td>32.000000</td>\n",
       "      <td>1000.000000</td>\n",
       "      <td>16.985737</td>\n",
       "      <td>4.990728</td>\n",
       "      <td>33503.935037</td>\n",
       "    </tr>\n",
       "  </tbody>\n",
       "</table>\n",
       "</div>"
      ],
      "text/plain": [
       "       Processor_Speed     RAM_Size  Storage_Capacity  Screen_Size  \\\n",
       "count      1000.000000  1000.000000       1000.000000  1000.000000   \n",
       "mean          2.750611    15.500000        584.576000    14.056790   \n",
       "std           0.731796    10.988665        313.438517     1.705882   \n",
       "min           1.511580     4.000000        256.000000    11.012111   \n",
       "25%           2.089246     8.000000        256.000000    12.635523   \n",
       "50%           2.760885    16.000000        512.000000    14.099643   \n",
       "75%           3.362610    32.000000       1000.000000    15.528590   \n",
       "max           3.998534    32.000000       1000.000000    16.985737   \n",
       "\n",
       "            Weight         Price  \n",
       "count  1000.000000   1000.000000  \n",
       "mean      3.466919  19604.187963  \n",
       "std       0.866541   9406.064880  \n",
       "min       2.000560   8570.012950  \n",
       "25%       2.717211  10114.012948  \n",
       "50%       3.464630  17287.241878  \n",
       "75%       4.212583  31566.214754  \n",
       "max       4.990728  33503.935037  "
      ]
     },
     "execution_count": 4,
     "metadata": {},
     "output_type": "execute_result"
    }
   ],
   "source": [
    "train_df.describe()"
   ]
  },
  {
   "cell_type": "markdown",
   "id": "08ce1d63",
   "metadata": {},
   "source": [
    "### Target encoding"
   ]
  },
  {
   "cell_type": "code",
   "execution_count": 14,
   "id": "a20f714b",
   "metadata": {},
   "outputs": [],
   "source": [
    "brand_target_mean = train_df.groupby('Brand')['Price'].mean()\n",
    "\n",
    "train_df['Brand_encoded'] = train_df['Brand'].map(brand_target_mean)\n",
    "train_df = train_df.drop('Brand', axis=1)"
   ]
  },
  {
   "cell_type": "code",
   "execution_count": 15,
   "id": "17357074",
   "metadata": {},
   "outputs": [
    {
     "data": {
      "text/html": [
       "<div>\n",
       "<style scoped>\n",
       "    .dataframe tbody tr th:only-of-type {\n",
       "        vertical-align: middle;\n",
       "    }\n",
       "\n",
       "    .dataframe tbody tr th {\n",
       "        vertical-align: top;\n",
       "    }\n",
       "\n",
       "    .dataframe thead th {\n",
       "        text-align: right;\n",
       "    }\n",
       "</style>\n",
       "<table border=\"1\" class=\"dataframe\">\n",
       "  <thead>\n",
       "    <tr style=\"text-align: right;\">\n",
       "      <th></th>\n",
       "      <th>Processor_Speed</th>\n",
       "      <th>RAM_Size</th>\n",
       "      <th>Storage_Capacity</th>\n",
       "      <th>Screen_Size</th>\n",
       "      <th>Weight</th>\n",
       "      <th>Price</th>\n",
       "      <th>Brand_encoded</th>\n",
       "    </tr>\n",
       "  </thead>\n",
       "  <tbody>\n",
       "    <tr>\n",
       "      <th>0</th>\n",
       "      <td>3.830296</td>\n",
       "      <td>16</td>\n",
       "      <td>512</td>\n",
       "      <td>11.185147</td>\n",
       "      <td>2.641094</td>\n",
       "      <td>17395.093065</td>\n",
       "      <td>19854.238277</td>\n",
       "    </tr>\n",
       "    <tr>\n",
       "      <th>1</th>\n",
       "      <td>2.912833</td>\n",
       "      <td>4</td>\n",
       "      <td>1000</td>\n",
       "      <td>11.311372</td>\n",
       "      <td>3.260012</td>\n",
       "      <td>31607.605919</td>\n",
       "      <td>19984.613620</td>\n",
       "    </tr>\n",
       "    <tr>\n",
       "      <th>2</th>\n",
       "      <td>3.241627</td>\n",
       "      <td>4</td>\n",
       "      <td>256</td>\n",
       "      <td>11.853023</td>\n",
       "      <td>2.029061</td>\n",
       "      <td>9291.023542</td>\n",
       "      <td>19974.929725</td>\n",
       "    </tr>\n",
       "    <tr>\n",
       "      <th>3</th>\n",
       "      <td>3.806248</td>\n",
       "      <td>16</td>\n",
       "      <td>512</td>\n",
       "      <td>12.280360</td>\n",
       "      <td>4.573865</td>\n",
       "      <td>17436.728334</td>\n",
       "      <td>19984.613620</td>\n",
       "    </tr>\n",
       "    <tr>\n",
       "      <th>4</th>\n",
       "      <td>3.268097</td>\n",
       "      <td>32</td>\n",
       "      <td>1000</td>\n",
       "      <td>14.990877</td>\n",
       "      <td>4.193472</td>\n",
       "      <td>32917.990718</td>\n",
       "      <td>19984.613620</td>\n",
       "    </tr>\n",
       "  </tbody>\n",
       "</table>\n",
       "</div>"
      ],
      "text/plain": [
       "   Processor_Speed  RAM_Size  Storage_Capacity  Screen_Size    Weight  \\\n",
       "0         3.830296        16               512    11.185147  2.641094   \n",
       "1         2.912833         4              1000    11.311372  3.260012   \n",
       "2         3.241627         4               256    11.853023  2.029061   \n",
       "3         3.806248        16               512    12.280360  4.573865   \n",
       "4         3.268097        32              1000    14.990877  4.193472   \n",
       "\n",
       "          Price  Brand_encoded  \n",
       "0  17395.093065   19854.238277  \n",
       "1  31607.605919   19984.613620  \n",
       "2   9291.023542   19974.929725  \n",
       "3  17436.728334   19984.613620  \n",
       "4  32917.990718   19984.613620  "
      ]
     },
     "execution_count": 15,
     "metadata": {},
     "output_type": "execute_result"
    }
   ],
   "source": [
    "train_df.head()"
   ]
  },
  {
   "cell_type": "code",
   "execution_count": 24,
   "id": "c522ba0e",
   "metadata": {},
   "outputs": [
    {
     "data": {
      "text/plain": [
       "9.965784284662087"
      ]
     },
     "execution_count": 24,
     "metadata": {},
     "output_type": "execute_result"
    }
   ],
   "source": [
    "np.log2(1000)"
   ]
  },
  {
   "cell_type": "code",
   "execution_count": 26,
   "id": "e1b09b12",
   "metadata": {},
   "outputs": [
    {
     "data": {
      "text/plain": [
       "(array([355.,   2.,   0., 296.,  11.,   0.,   0.,   0.,   4., 332.]),\n",
       " array([ 8570.01295047, 11063.40515915, 13556.79736784, 16050.18957652,\n",
       "        18543.58178521, 21036.97399389, 23530.36620258, 26023.75841126,\n",
       "        28517.15061995, 31010.54282863, 33503.93503731]),\n",
       " <BarContainer object of 10 artists>)"
      ]
     },
     "execution_count": 26,
     "metadata": {},
     "output_type": "execute_result"
    },
    {
     "data": {
      "image/png": "[encoded data removed]",
      "text/plain": [
       "<Figure size 640x480 with 1 Axes>"
      ]
     },
     "metadata": {},
     "output_type": "display_data"
    }
   ],
   "source": [
    "plt.hist(train_df.Price, bins=int(np.log2(1000) + 1))"
   ]
  },
  {
   "cell_type": "code",
   "execution_count": 27,
   "id": "ee252626",
   "metadata": {},
   "outputs": [
    {
     "data": {
      "text/plain": [
       "{'whiskers': [<matplotlib.lines.Line2D at 0x251058ca610>,\n",
       "  <matplotlib.lines.Line2D at 0x251099d4b10>],\n",
       " 'caps': [<matplotlib.lines.Line2D at 0x251099d54d0>,\n",
       "  <matplotlib.lines.Line2D at 0x251099d5b10>],\n",
       " 'boxes': [<matplotlib.lines.Line2D at 0x251099cd090>],\n",
       " 'medians': [<matplotlib.lines.Line2D at 0x251099d6210>],\n",
       " 'fliers': [<matplotlib.lines.Line2D at 0x251099d6c10>],\n",
       " 'means': []}"
      ]
     },
     "execution_count": 27,
     "metadata": {},
     "output_type": "execute_result"
    },
    {
     "data": {
      "image/png": "[encoded data removed]",
      "text/plain": [
       "<Figure size 640x480 with 1 Axes>"
      ]
     },
     "metadata": {},
     "output_type": "display_data"
    }
   ],
   "source": [
    "plt.boxplot(train_df.Price)"
   ]
  },
  {
   "cell_type": "code",
   "execution_count": 20,
   "id": "eb98ecaa",
   "metadata": {},
   "outputs": [
    {
     "data": {
      "image/png": "[encoded data removed]",
      "text/plain": [
       "<Figure size 600x600 with 2 Axes>"
      ]
     },
     "metadata": {},
     "output_type": "display_data"
    }
   ],
   "source": [
    "corr_matrix = train_df.corr()\n",
    "\n",
    "plt.figure(figsize=(6, 6))\n",
    "sns.heatmap(corr_matrix, annot=True, cmap='coolwarm', fmt=\".2f\", linewidths=0.5)\n",
    "plt.title('Матрица корреляции')\n",
    "plt.show()"
   ]
  },
  {
   "cell_type": "code",
   "execution_count": 21,
   "id": "4d86b919",
   "metadata": {},
   "outputs": [
    {
     "data": {
      "text/html": [
       "<div>\n",
       "<style scoped>\n",
       "    .dataframe tbody tr th:only-of-type {\n",
       "        vertical-align: middle;\n",
       "    }\n",
       "\n",
       "    .dataframe tbody tr th {\n",
       "        vertical-align: top;\n",
       "    }\n",
       "\n",
       "    .dataframe thead th {\n",
       "        text-align: right;\n",
       "    }\n",
       "</style>\n",
       "<table border=\"1\" class=\"dataframe\">\n",
       "  <thead>\n",
       "    <tr style=\"text-align: right;\">\n",
       "      <th></th>\n",
       "      <th>Processor_Speed</th>\n",
       "      <th>RAM_Size</th>\n",
       "      <th>Storage_Capacity</th>\n",
       "      <th>Screen_Size</th>\n",
       "      <th>Weight</th>\n",
       "      <th>Price</th>\n",
       "      <th>Brand_encoded</th>\n",
       "    </tr>\n",
       "  </thead>\n",
       "  <tbody>\n",
       "    <tr>\n",
       "      <th>Processor_Speed</th>\n",
       "      <td>1.000000</td>\n",
       "      <td>0.021391</td>\n",
       "      <td>-0.067576</td>\n",
       "      <td>-0.013425</td>\n",
       "      <td>-0.054603</td>\n",
       "      <td>-0.050737</td>\n",
       "      <td>0.010893</td>\n",
       "    </tr>\n",
       "    <tr>\n",
       "      <th>RAM_Size</th>\n",
       "      <td>0.021391</td>\n",
       "      <td>1.000000</td>\n",
       "      <td>0.002111</td>\n",
       "      <td>-0.036002</td>\n",
       "      <td>-0.025382</td>\n",
       "      <td>0.061237</td>\n",
       "      <td>-0.025871</td>\n",
       "    </tr>\n",
       "    <tr>\n",
       "      <th>Storage_Capacity</th>\n",
       "      <td>-0.067576</td>\n",
       "      <td>0.002111</td>\n",
       "      <td>1.000000</td>\n",
       "      <td>-0.027560</td>\n",
       "      <td>0.041335</td>\n",
       "      <td>0.997908</td>\n",
       "      <td>0.047407</td>\n",
       "    </tr>\n",
       "    <tr>\n",
       "      <th>Screen_Size</th>\n",
       "      <td>-0.013425</td>\n",
       "      <td>-0.036002</td>\n",
       "      <td>-0.027560</td>\n",
       "      <td>1.000000</td>\n",
       "      <td>0.021995</td>\n",
       "      <td>-0.026740</td>\n",
       "      <td>0.001936</td>\n",
       "    </tr>\n",
       "    <tr>\n",
       "      <th>Weight</th>\n",
       "      <td>-0.054603</td>\n",
       "      <td>-0.025382</td>\n",
       "      <td>0.041335</td>\n",
       "      <td>0.021995</td>\n",
       "      <td>1.000000</td>\n",
       "      <td>0.038417</td>\n",
       "      <td>0.018861</td>\n",
       "    </tr>\n",
       "    <tr>\n",
       "      <th>Price</th>\n",
       "      <td>-0.050737</td>\n",
       "      <td>0.061237</td>\n",
       "      <td>0.997908</td>\n",
       "      <td>-0.026740</td>\n",
       "      <td>0.038417</td>\n",
       "      <td>1.000000</td>\n",
       "      <td>0.046776</td>\n",
       "    </tr>\n",
       "    <tr>\n",
       "      <th>Brand_encoded</th>\n",
       "      <td>0.010893</td>\n",
       "      <td>-0.025871</td>\n",
       "      <td>0.047407</td>\n",
       "      <td>0.001936</td>\n",
       "      <td>0.018861</td>\n",
       "      <td>0.046776</td>\n",
       "      <td>1.000000</td>\n",
       "    </tr>\n",
       "  </tbody>\n",
       "</table>\n",
       "</div>"
      ],
      "text/plain": [
       "                  Processor_Speed  RAM_Size  Storage_Capacity  Screen_Size  \\\n",
       "Processor_Speed          1.000000  0.021391         -0.067576    -0.013425   \n",
       "RAM_Size                 0.021391  1.000000          0.002111    -0.036002   \n",
       "Storage_Capacity        -0.067576  0.002111          1.000000    -0.027560   \n",
       "Screen_Size             -0.013425 -0.036002         -0.027560     1.000000   \n",
       "Weight                  -0.054603 -0.025382          0.041335     0.021995   \n",
       "Price                   -0.050737  0.061237          0.997908    -0.026740   \n",
       "Brand_encoded            0.010893 -0.025871          0.047407     0.001936   \n",
       "\n",
       "                    Weight     Price  Brand_encoded  \n",
       "Processor_Speed  -0.054603 -0.050737       0.010893  \n",
       "RAM_Size         -0.025382  0.061237      -0.025871  \n",
       "Storage_Capacity  0.041335  0.997908       0.047407  \n",
       "Screen_Size       0.021995 -0.026740       0.001936  \n",
       "Weight            1.000000  0.038417       0.018861  \n",
       "Price             0.038417  1.000000       0.046776  \n",
       "Brand_encoded     0.018861  0.046776       1.000000  "
      ]
     },
     "execution_count": 21,
     "metadata": {},
     "output_type": "execute_result"
    }
   ],
   "source": [
    "train_df.corr()"
   ]
  },
  {
   "cell_type": "markdown",
   "id": "9207e320",
   "metadata": {},
   "source": [
    "### Gain Ratio = Information Gain / Split Info = (|X| * H(X) - |X_l| * H(X_l) - |X_r| * H(X_r))"
   ]
  },
  {
   "cell_type": "code",
   "execution_count": 33,
   "id": "f1d90123",
   "metadata": {},
   "outputs": [],
   "source": [
    "from sklearn.feature_selection import mutual_info_regression"
   ]
  },
  {
   "cell_type": "code",
   "execution_count": 37,
   "id": "7266bc38",
   "metadata": {},
   "outputs": [
    {
     "data": {
      "text/plain": [
       "{'Processor_Speed': 0.10307269870506097,\n",
       " 'RAM_Size': 0.813194143489659,\n",
       " 'Storage_Capacity': 1.0977126661825447,\n",
       " 'Screen_Size': 0.0,\n",
       " 'Weight': 0.0,\n",
       " 'Brand_encoded': 0.033321691746451165}"
      ]
     },
     "execution_count": 37,
     "metadata": {},
     "output_type": "execute_result"
    }
   ],
   "source": [
    "dict(zip(train_df.columns.drop('Price'), mutual_info_regression(train_df.drop('Price', axis=1), train_df.Price)))"
   ]
  },
  {
   "cell_type": "code",
   "execution_count": null,
   "id": "c72565b0",
   "metadata": {},
   "outputs": [],
   "source": []
  }
 ],
 "metadata": {
  "kernelspec": {
   "display_name": "Python 3 (ipykernel)",
   "language": "python",
   "name": "python3"
  },
  "language_info": {
   "codemirror_mode": {
    "name": "ipython",
    "version": 3
   },
   "file_extension": ".py",
   "mimetype": "text/x-python",
   "name": "python",
   "nbconvert_exporter": "python",
   "pygments_lexer": "ipython3",
   "version": "3.11.4"
  }
 },
 "nbformat": 4,
 "nbformat_minor": 5
}
