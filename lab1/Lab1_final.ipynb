{
 "cells": [
  {
   "cell_type": "code",
   "execution_count": 1,
   "id": "ed4bfb71-2ae0-47b9-9f67-406acec17892",
   "metadata": {
    "ExecuteTime": {
     "end_time": "2024-02-15T03:45:00.158275514Z",
     "start_time": "2024-02-15T03:45:00.147065054Z"
    },
    "colab": {
     "base_uri": "https://localhost:8080/",
     "height": 206
    },
    "id": "ed4bfb71-2ae0-47b9-9f67-406acec17892",
    "outputId": "e7a186b7-6e78-4273-f529-51981e2c9129"
   },
   "outputs": [
    {
     "data": {
      "text/html": [
       "<div>\n",
       "<style scoped>\n",
       "    .dataframe tbody tr th:only-of-type {\n",
       "        vertical-align: middle;\n",
       "    }\n",
       "\n",
       "    .dataframe tbody tr th {\n",
       "        vertical-align: top;\n",
       "    }\n",
       "\n",
       "    .dataframe thead th {\n",
       "        text-align: right;\n",
       "    }\n",
       "</style>\n",
       "<table border=\"1\" class=\"dataframe\">\n",
       "  <thead>\n",
       "    <tr style=\"text-align: right;\">\n",
       "      <th></th>\n",
       "      <th>Brand</th>\n",
       "      <th>Processor_Speed</th>\n",
       "      <th>RAM_Size</th>\n",
       "      <th>Storage_Capacity</th>\n",
       "      <th>Screen_Size</th>\n",
       "      <th>Weight</th>\n",
       "      <th>Price</th>\n",
       "    </tr>\n",
       "  </thead>\n",
       "  <tbody>\n",
       "    <tr>\n",
       "      <th>0</th>\n",
       "      <td>Asus</td>\n",
       "      <td>3.830296</td>\n",
       "      <td>16</td>\n",
       "      <td>512</td>\n",
       "      <td>11.185147</td>\n",
       "      <td>2.641094</td>\n",
       "      <td>17395.093065</td>\n",
       "    </tr>\n",
       "    <tr>\n",
       "      <th>1</th>\n",
       "      <td>Acer</td>\n",
       "      <td>2.912833</td>\n",
       "      <td>4</td>\n",
       "      <td>1000</td>\n",
       "      <td>11.311372</td>\n",
       "      <td>3.260012</td>\n",
       "      <td>31607.605919</td>\n",
       "    </tr>\n",
       "    <tr>\n",
       "      <th>2</th>\n",
       "      <td>Lenovo</td>\n",
       "      <td>3.241627</td>\n",
       "      <td>4</td>\n",
       "      <td>256</td>\n",
       "      <td>11.853023</td>\n",
       "      <td>2.029061</td>\n",
       "      <td>9291.023542</td>\n",
       "    </tr>\n",
       "    <tr>\n",
       "      <th>3</th>\n",
       "      <td>Acer</td>\n",
       "      <td>3.806248</td>\n",
       "      <td>16</td>\n",
       "      <td>512</td>\n",
       "      <td>12.280360</td>\n",
       "      <td>4.573865</td>\n",
       "      <td>17436.728334</td>\n",
       "    </tr>\n",
       "    <tr>\n",
       "      <th>4</th>\n",
       "      <td>Acer</td>\n",
       "      <td>3.268097</td>\n",
       "      <td>32</td>\n",
       "      <td>1000</td>\n",
       "      <td>14.990877</td>\n",
       "      <td>4.193472</td>\n",
       "      <td>32917.990718</td>\n",
       "    </tr>\n",
       "  </tbody>\n",
       "</table>\n",
       "</div>"
      ],
      "text/plain": [
       "    Brand  Processor_Speed  RAM_Size  Storage_Capacity  Screen_Size    Weight  \\\n",
       "0    Asus         3.830296        16               512    11.185147  2.641094   \n",
       "1    Acer         2.912833         4              1000    11.311372  3.260012   \n",
       "2  Lenovo         3.241627         4               256    11.853023  2.029061   \n",
       "3    Acer         3.806248        16               512    12.280360  4.573865   \n",
       "4    Acer         3.268097        32              1000    14.990877  4.193472   \n",
       "\n",
       "          Price  \n",
       "0  17395.093065  \n",
       "1  31607.605919  \n",
       "2   9291.023542  \n",
       "3  17436.728334  \n",
       "4  32917.990718  "
      ]
     },
     "execution_count": 1,
     "metadata": {},
     "output_type": "execute_result"
    }
   ],
   "source": [
    "import matplotlib.pyplot as plt\n",
    "import numpy as np\n",
    "import pandas as pd\n",
    "import seaborn as sns\n",
    "from scipy.stats import entropy\n",
    "from sklearn.feature_selection import mutual_info_regression\n",
    "from typing import Any\n",
    "\n",
    "df = pd.read_csv(\"Laptop_price.csv\")\n",
    "df.head()"
   ]
  },
  {
   "cell_type": "code",
   "execution_count": 3,
   "id": "f2cd6692-f73f-47b4-945a-6b5369f31019",
   "metadata": {
    "ExecuteTime": {
     "end_time": "2024-02-15T03:45:00.214745795Z",
     "start_time": "2024-02-15T03:45:00.160835475Z"
    },
    "colab": {
     "base_uri": "https://localhost:8080/"
    },
    "id": "f2cd6692-f73f-47b4-945a-6b5369f31019",
    "outputId": "7558ec42-6d43-4cbd-c8d6-4ed7e3c3abb7"
   },
   "outputs": [
    {
     "data": {
      "text/plain": [
       "Brand               0\n",
       "Processor_Speed     0\n",
       "RAM_Size            0\n",
       "Storage_Capacity    0\n",
       "Screen_Size         0\n",
       "Weight              0\n",
       "Price               0\n",
       "dtype: int64"
      ]
     },
     "execution_count": 3,
     "metadata": {},
     "output_type": "execute_result"
    }
   ],
   "source": [
    "df.isnull().sum()"
   ]
  },
  {
   "cell_type": "code",
   "execution_count": 4,
   "id": "7ecf8d2f-5fd1-4907-8f84-cd62f2b3ebf9",
   "metadata": {
    "ExecuteTime": {
     "end_time": "2024-02-15T03:45:00.215161014Z",
     "start_time": "2024-02-15T03:45:00.196498425Z"
    },
    "id": "7ecf8d2f-5fd1-4907-8f84-cd62f2b3ebf9"
   },
   "outputs": [],
   "source": [
    "encoded_data = pd.get_dummies(df, columns=['Brand'], prefix='Brand', drop_first=True)"
   ]
  },
  {
   "cell_type": "code",
   "execution_count": 5,
   "id": "uaQLqzLarek8",
   "metadata": {
    "colab": {
     "base_uri": "https://localhost:8080/",
     "height": 944
    },
    "id": "uaQLqzLarek8",
    "outputId": "c7f180a6-2df7-4d61-b0a3-b578a16896e0"
   },
   "outputs": [
    {
     "data": {
      "image/png": "[encoded data removed]",
      "text/plain": [
       "<Figure size 1200x1000 with 2 Axes>"
      ]
     },
     "metadata": {},
     "output_type": "display_data"
    }
   ],
   "source": [
    "plt.figure(figsize=(12, 10))\n",
    "heatmap = sns.heatmap(encoded_data.corr(), annot=True, cmap='coolwarm', fmt=\".2f\")"
   ]
  },
  {
   "cell_type": "code",
   "execution_count": 7,
   "id": "c1f99e47-c24c-4823-91d3-1a9b0213af45",
   "metadata": {
    "ExecuteTime": {
     "end_time": "2024-02-15T03:45:00.215862044Z",
     "start_time": "2024-02-15T03:45:00.196727056Z"
    },
    "colab": {
     "base_uri": "https://localhost:8080/",
     "height": 424
    },
    "id": "c1f99e47-c24c-4823-91d3-1a9b0213af45",
    "outputId": "2f5219a2-8b94-477c-a3b4-453ed7c105e5"
   },
   "outputs": [
    {
     "name": "stdout",
     "output_type": "stream",
     "text": [
      "['Storage_Capacity', 'Price']\n"
     ]
    },
    {
     "data": {
      "text/html": [
       "<div>\n",
       "<style scoped>\n",
       "    .dataframe tbody tr th:only-of-type {\n",
       "        vertical-align: middle;\n",
       "    }\n",
       "\n",
       "    .dataframe tbody tr th {\n",
       "        vertical-align: top;\n",
       "    }\n",
       "\n",
       "    .dataframe thead th {\n",
       "        text-align: right;\n",
       "    }\n",
       "</style>\n",
       "<table border=\"1\" class=\"dataframe\">\n",
       "  <thead>\n",
       "    <tr style=\"text-align: right;\">\n",
       "      <th></th>\n",
       "      <th>Storage_Capacity</th>\n",
       "      <th>Price</th>\n",
       "    </tr>\n",
       "  </thead>\n",
       "  <tbody>\n",
       "    <tr>\n",
       "      <th>0</th>\n",
       "      <td>512</td>\n",
       "      <td>17395.093065</td>\n",
       "    </tr>\n",
       "    <tr>\n",
       "      <th>1</th>\n",
       "      <td>1000</td>\n",
       "      <td>31607.605919</td>\n",
       "    </tr>\n",
       "    <tr>\n",
       "      <th>2</th>\n",
       "      <td>256</td>\n",
       "      <td>9291.023542</td>\n",
       "    </tr>\n",
       "    <tr>\n",
       "      <th>3</th>\n",
       "      <td>512</td>\n",
       "      <td>17436.728334</td>\n",
       "    </tr>\n",
       "    <tr>\n",
       "      <th>4</th>\n",
       "      <td>1000</td>\n",
       "      <td>32917.990718</td>\n",
       "    </tr>\n",
       "    <tr>\n",
       "      <th>...</th>\n",
       "      <td>...</td>\n",
       "      <td>...</td>\n",
       "    </tr>\n",
       "    <tr>\n",
       "      <th>995</th>\n",
       "      <td>1000</td>\n",
       "      <td>31593.668017</td>\n",
       "    </tr>\n",
       "    <tr>\n",
       "      <th>996</th>\n",
       "      <td>256</td>\n",
       "      <td>9149.521832</td>\n",
       "    </tr>\n",
       "    <tr>\n",
       "      <th>997</th>\n",
       "      <td>512</td>\n",
       "      <td>16552.404779</td>\n",
       "    </tr>\n",
       "    <tr>\n",
       "      <th>998</th>\n",
       "      <td>256</td>\n",
       "      <td>9407.473459</td>\n",
       "    </tr>\n",
       "    <tr>\n",
       "      <th>999</th>\n",
       "      <td>256</td>\n",
       "      <td>8807.696702</td>\n",
       "    </tr>\n",
       "  </tbody>\n",
       "</table>\n",
       "<p>1000 rows × 2 columns</p>\n",
       "</div>"
      ],
      "text/plain": [
       "     Storage_Capacity         Price\n",
       "0                 512  17395.093065\n",
       "1                1000  31607.605919\n",
       "2                 256   9291.023542\n",
       "3                 512  17436.728334\n",
       "4                1000  32917.990718\n",
       "..                ...           ...\n",
       "995              1000  31593.668017\n",
       "996               256   9149.521832\n",
       "997               512  16552.404779\n",
       "998               256   9407.473459\n",
       "999               256   8807.696702\n",
       "\n",
       "[1000 rows x 2 columns]"
      ]
     },
     "execution_count": 7,
     "metadata": {},
     "output_type": "execute_result"
    }
   ],
   "source": [
    "target = \"Price\"\n",
    "\n",
    "correlations = encoded_data.corr()[target].abs()\n",
    "threshold = 0.3\n",
    "\n",
    "selected_features = correlations[correlations > threshold].index.tolist()\n",
    "print(selected_features)\n",
    "selected_data = encoded_data[selected_features]\n",
    "selected_data"
   ]
  },
  {
   "cell_type": "code",
   "execution_count": 10,
   "id": "c0dca29b",
   "metadata": {},
   "outputs": [],
   "source": [
    "x = encoded_data.drop([target], axis=1)\n",
    "y = encoded_data[target]"
   ]
  },
  {
   "cell_type": "code",
   "execution_count": 11,
   "id": "h5R_NZd_i8vt",
   "metadata": {
    "colab": {
     "base_uri": "https://localhost:8080/",
     "height": 447
    },
    "id": "h5R_NZd_i8vt",
    "outputId": "10e56e50-6409-4509-819e-ad673bdc213d"
   },
   "outputs": [
    {
     "data": {
      "text/plain": [
       "<Axes: >"
      ]
     },
     "execution_count": 11,
     "metadata": {},
     "output_type": "execute_result"
    },
    {
     "data": {
      "image/png": "[encoded data removed]",
      "text/plain": [
       "<Figure size 640x480 with 1 Axes>"
      ]
     },
     "metadata": {},
     "output_type": "display_data"
    }
   ],
   "source": [
    "regr = RandomForestRegressor(max_depth=20, random_state=0)\n",
    "regr.fit(x, y)\n",
    "feat_importances = pd.Series(regr.feature_importances_, index=x.columns)\n",
    "feat_importances.plot(kind='barh')"
   ]
  },
  {
   "cell_type": "code",
   "execution_count": null,
   "id": "pmWbZ71H-8g4",
   "metadata": {
    "colab": {
     "base_uri": "https://localhost:8080/"
    },
    "id": "pmWbZ71H-8g4",
    "outputId": "bda9e344-168a-4e98-c6a1-85081425e5c5"
   },
   "outputs": [
    {
     "name": "stdout",
     "output_type": "stream",
     "text": [
      "<class 'pandas.core.frame.DataFrame'>\n",
      "RangeIndex: 1000 entries, 0 to 999\n",
      "Data columns (total 10 columns):\n",
      " #   Column            Non-Null Count  Dtype  \n",
      "---  ------            --------------  -----  \n",
      " 0   Processor_Speed   1000 non-null   float64\n",
      " 1   RAM_Size          1000 non-null   int64  \n",
      " 2   Storage_Capacity  1000 non-null   int64  \n",
      " 3   Screen_Size       1000 non-null   float64\n",
      " 4   Weight            1000 non-null   float64\n",
      " 5   Price             1000 non-null   float64\n",
      " 6   Brand_Asus        1000 non-null   uint8  \n",
      " 7   Brand_Dell        1000 non-null   uint8  \n",
      " 8   Brand_HP          1000 non-null   uint8  \n",
      " 9   Brand_Lenovo      1000 non-null   uint8  \n",
      "dtypes: float64(4), int64(2), uint8(4)\n",
      "memory usage: 50.9 KB\n"
     ]
    }
   ],
   "source": [
    "encoded_data.info()"
   ]
  },
  {
   "cell_type": "code",
   "execution_count": null,
   "id": "29nVmgFV_Ij7",
   "metadata": {
    "colab": {
     "base_uri": "https://localhost:8080/",
     "height": 517
    },
    "id": "29nVmgFV_Ij7",
    "outputId": "97bc6d41-584e-4911-f3ab-5dddd7714227"
   },
   "outputs": [
    {
     "data": {
      "text/plain": [
       "(array([355.,   2.,   0., 296.,  11.,   0.,   0.,   0.,   4., 332.]),\n",
       " array([ 8570.01295047, 11063.40515915, 13556.79736784, 16050.18957652,\n",
       "        18543.58178521, 21036.97399389, 23530.36620258, 26023.75841126,\n",
       "        28517.15061995, 31010.54282863, 33503.93503731]),\n",
       " <BarContainer object of 10 artists>)"
      ]
     },
     "execution_count": 49,
     "metadata": {},
     "output_type": "execute_result"
    },
    {
     "data": {
      "image/png": "[encoded data removed]",
      "text/plain": [
       "<Figure size 640x480 with 1 Axes>"
      ]
     },
     "metadata": {},
     "output_type": "display_data"
    }
   ],
   "source": [
    "plt.hist(encoded_data.Price)"
   ]
  },
  {
   "cell_type": "markdown",
   "id": "HDy2XyI0b8QY",
   "metadata": {
    "id": "HDy2XyI0b8QY"
   },
   "source": [
    "Видим что наше ценообразование разбивается по сути на 3 группы, т.е можно представить задачу как задачу классификации по трем этим группам"
   ]
  },
  {
   "cell_type": "code",
   "execution_count": 12,
   "id": "jf81Z2P-AQ86",
   "metadata": {
    "id": "jf81Z2P-AQ86"
   },
   "outputs": [],
   "source": [
    "def f(x) -> str:\n",
    "  if x < 16000:\n",
    "    return '1'\n",
    "  elif x < 25000:\n",
    "    return '2'\n",
    "  else:\n",
    "    return '3'\n"
   ]
  },
  {
   "cell_type": "code",
   "execution_count": 13,
   "id": "UGepM0QTAFLf",
   "metadata": {
    "id": "UGepM0QTAFLf"
   },
   "outputs": [],
   "source": [
    "encoded_data[\"category\"] = encoded_data[target].apply(f)"
   ]
  },
  {
   "cell_type": "code",
   "execution_count": 14,
   "id": "3jl_I8Q5APbx",
   "metadata": {
    "colab": {
     "base_uri": "https://localhost:8080/",
     "height": 424
    },
    "id": "3jl_I8Q5APbx",
    "outputId": "55e5a828-bc9d-418a-b76b-996d89322612"
   },
   "outputs": [
    {
     "data": {
      "text/html": [
       "<div>\n",
       "<style scoped>\n",
       "    .dataframe tbody tr th:only-of-type {\n",
       "        vertical-align: middle;\n",
       "    }\n",
       "\n",
       "    .dataframe tbody tr th {\n",
       "        vertical-align: top;\n",
       "    }\n",
       "\n",
       "    .dataframe thead th {\n",
       "        text-align: right;\n",
       "    }\n",
       "</style>\n",
       "<table border=\"1\" class=\"dataframe\">\n",
       "  <thead>\n",
       "    <tr style=\"text-align: right;\">\n",
       "      <th></th>\n",
       "      <th>Processor_Speed</th>\n",
       "      <th>RAM_Size</th>\n",
       "      <th>Storage_Capacity</th>\n",
       "      <th>Screen_Size</th>\n",
       "      <th>Weight</th>\n",
       "      <th>Price</th>\n",
       "      <th>Brand_Asus</th>\n",
       "      <th>Brand_Dell</th>\n",
       "      <th>Brand_HP</th>\n",
       "      <th>Brand_Lenovo</th>\n",
       "      <th>category</th>\n",
       "    </tr>\n",
       "  </thead>\n",
       "  <tbody>\n",
       "    <tr>\n",
       "      <th>0</th>\n",
       "      <td>3.830296</td>\n",
       "      <td>16</td>\n",
       "      <td>512</td>\n",
       "      <td>11.185147</td>\n",
       "      <td>2.641094</td>\n",
       "      <td>17395.093065</td>\n",
       "      <td>True</td>\n",
       "      <td>False</td>\n",
       "      <td>False</td>\n",
       "      <td>False</td>\n",
       "      <td>2</td>\n",
       "    </tr>\n",
       "    <tr>\n",
       "      <th>1</th>\n",
       "      <td>2.912833</td>\n",
       "      <td>4</td>\n",
       "      <td>1000</td>\n",
       "      <td>11.311372</td>\n",
       "      <td>3.260012</td>\n",
       "      <td>31607.605919</td>\n",
       "      <td>False</td>\n",
       "      <td>False</td>\n",
       "      <td>False</td>\n",
       "      <td>False</td>\n",
       "      <td>3</td>\n",
       "    </tr>\n",
       "    <tr>\n",
       "      <th>2</th>\n",
       "      <td>3.241627</td>\n",
       "      <td>4</td>\n",
       "      <td>256</td>\n",
       "      <td>11.853023</td>\n",
       "      <td>2.029061</td>\n",
       "      <td>9291.023542</td>\n",
       "      <td>False</td>\n",
       "      <td>False</td>\n",
       "      <td>False</td>\n",
       "      <td>True</td>\n",
       "      <td>1</td>\n",
       "    </tr>\n",
       "    <tr>\n",
       "      <th>3</th>\n",
       "      <td>3.806248</td>\n",
       "      <td>16</td>\n",
       "      <td>512</td>\n",
       "      <td>12.280360</td>\n",
       "      <td>4.573865</td>\n",
       "      <td>17436.728334</td>\n",
       "      <td>False</td>\n",
       "      <td>False</td>\n",
       "      <td>False</td>\n",
       "      <td>False</td>\n",
       "      <td>2</td>\n",
       "    </tr>\n",
       "    <tr>\n",
       "      <th>4</th>\n",
       "      <td>3.268097</td>\n",
       "      <td>32</td>\n",
       "      <td>1000</td>\n",
       "      <td>14.990877</td>\n",
       "      <td>4.193472</td>\n",
       "      <td>32917.990718</td>\n",
       "      <td>False</td>\n",
       "      <td>False</td>\n",
       "      <td>False</td>\n",
       "      <td>False</td>\n",
       "      <td>3</td>\n",
       "    </tr>\n",
       "    <tr>\n",
       "      <th>...</th>\n",
       "      <td>...</td>\n",
       "      <td>...</td>\n",
       "      <td>...</td>\n",
       "      <td>...</td>\n",
       "      <td>...</td>\n",
       "      <td>...</td>\n",
       "      <td>...</td>\n",
       "      <td>...</td>\n",
       "      <td>...</td>\n",
       "      <td>...</td>\n",
       "      <td>...</td>\n",
       "    </tr>\n",
       "    <tr>\n",
       "      <th>995</th>\n",
       "      <td>3.343584</td>\n",
       "      <td>4</td>\n",
       "      <td>1000</td>\n",
       "      <td>12.587095</td>\n",
       "      <td>3.162399</td>\n",
       "      <td>31593.668017</td>\n",
       "      <td>False</td>\n",
       "      <td>False</td>\n",
       "      <td>True</td>\n",
       "      <td>False</td>\n",
       "      <td>3</td>\n",
       "    </tr>\n",
       "    <tr>\n",
       "      <th>996</th>\n",
       "      <td>2.780555</td>\n",
       "      <td>8</td>\n",
       "      <td>256</td>\n",
       "      <td>12.679356</td>\n",
       "      <td>3.750265</td>\n",
       "      <td>9149.521832</td>\n",
       "      <td>False</td>\n",
       "      <td>True</td>\n",
       "      <td>False</td>\n",
       "      <td>False</td>\n",
       "      <td>1</td>\n",
       "    </tr>\n",
       "    <tr>\n",
       "      <th>997</th>\n",
       "      <td>3.200569</td>\n",
       "      <td>4</td>\n",
       "      <td>512</td>\n",
       "      <td>12.666315</td>\n",
       "      <td>3.392612</td>\n",
       "      <td>16552.404779</td>\n",
       "      <td>False</td>\n",
       "      <td>True</td>\n",
       "      <td>False</td>\n",
       "      <td>False</td>\n",
       "      <td>2</td>\n",
       "    </tr>\n",
       "    <tr>\n",
       "      <th>998</th>\n",
       "      <td>1.604182</td>\n",
       "      <td>8</td>\n",
       "      <td>256</td>\n",
       "      <td>11.215581</td>\n",
       "      <td>3.857613</td>\n",
       "      <td>9407.473459</td>\n",
       "      <td>True</td>\n",
       "      <td>False</td>\n",
       "      <td>False</td>\n",
       "      <td>False</td>\n",
       "      <td>1</td>\n",
       "    </tr>\n",
       "    <tr>\n",
       "      <th>999</th>\n",
       "      <td>1.711980</td>\n",
       "      <td>4</td>\n",
       "      <td>256</td>\n",
       "      <td>16.561498</td>\n",
       "      <td>3.440883</td>\n",
       "      <td>8807.696702</td>\n",
       "      <td>False</td>\n",
       "      <td>False</td>\n",
       "      <td>False</td>\n",
       "      <td>True</td>\n",
       "      <td>1</td>\n",
       "    </tr>\n",
       "  </tbody>\n",
       "</table>\n",
       "<p>1000 rows × 11 columns</p>\n",
       "</div>"
      ],
      "text/plain": [
       "     Processor_Speed  RAM_Size  Storage_Capacity  Screen_Size    Weight  \\\n",
       "0           3.830296        16               512    11.185147  2.641094   \n",
       "1           2.912833         4              1000    11.311372  3.260012   \n",
       "2           3.241627         4               256    11.853023  2.029061   \n",
       "3           3.806248        16               512    12.280360  4.573865   \n",
       "4           3.268097        32              1000    14.990877  4.193472   \n",
       "..               ...       ...               ...          ...       ...   \n",
       "995         3.343584         4              1000    12.587095  3.162399   \n",
       "996         2.780555         8               256    12.679356  3.750265   \n",
       "997         3.200569         4               512    12.666315  3.392612   \n",
       "998         1.604182         8               256    11.215581  3.857613   \n",
       "999         1.711980         4               256    16.561498  3.440883   \n",
       "\n",
       "            Price  Brand_Asus  Brand_Dell  Brand_HP  Brand_Lenovo category  \n",
       "0    17395.093065        True       False     False         False        2  \n",
       "1    31607.605919       False       False     False         False        3  \n",
       "2     9291.023542       False       False     False          True        1  \n",
       "3    17436.728334       False       False     False         False        2  \n",
       "4    32917.990718       False       False     False         False        3  \n",
       "..            ...         ...         ...       ...           ...      ...  \n",
       "995  31593.668017       False       False      True         False        3  \n",
       "996   9149.521832       False        True     False         False        1  \n",
       "997  16552.404779       False        True     False         False        2  \n",
       "998   9407.473459        True       False     False         False        1  \n",
       "999   8807.696702       False       False     False          True        1  \n",
       "\n",
       "[1000 rows x 11 columns]"
      ]
     },
     "execution_count": 14,
     "metadata": {},
     "output_type": "execute_result"
    }
   ],
   "source": [
    "encoded_data"
   ]
  },
  {
   "cell_type": "code",
   "execution_count": 15,
   "id": "iBwpgcxgCTeP",
   "metadata": {
    "colab": {
     "base_uri": "https://localhost:8080/"
    },
    "id": "iBwpgcxgCTeP",
    "outputId": "34e6a06d-1695-42eb-e733-c5bbe9d23069"
   },
   "outputs": [],
   "source": [
    "import pandas as pd\n",
    "import numpy as np\n",
    "from math import log2\n",
    "from typing import List, Any, Dict, Tuple\n",
    "\n",
    "def calculate_category_probabilities(x: pd.Series, category_col: str =\"category\") -> List[float]:\n",
    "    categories = x[category_col].unique()\n",
    "    probabilities = [x[x[category_col] == category].shape[0] / x.shape[0] for category in categories]\n",
    "    return probabilities\n",
    "\n",
    "def calc_entropy(p: List[float]) -> float:\n",
    "    return sum([-p_i * log2(p_i) if p_i != 0 else 0 for p_i in p])\n",
    "\n",
    "def gain_ratio(dataset: pd.DataFrame, target_col: str = \"target\", category_col: str = \"category\") -> Dict[Any, Tuple[float, float]]:\n",
    "    x = dataset\n",
    "    p = calculate_category_probabilities(x, category_col)\n",
    "    h_x = calc_entropy(p)\n",
    "    print(h_x)\n",
    "    res = {}\n",
    "    gain_ratio_value = 0\n",
    "\n",
    "    for column in dataset.columns:\n",
    "        max_gain_ratio = float(\"-inf\")\n",
    "        if column == target_col or column == category_col:\n",
    "            continue\n",
    "\n",
    "        best_value = float(\"-inf\")\n",
    "        for value in dataset[column].unique():\n",
    "            x_l = dataset.loc[dataset[column] <= value]\n",
    "            x_r = dataset.loc[dataset[column] > value]\n",
    "\n",
    "            p_l = calculate_category_probabilities(x_l, category_col)\n",
    "            p_r = calculate_category_probabilities(x_r, category_col)\n",
    "\n",
    "            h_x_l = calc_entropy(p_l)\n",
    "            h_x_r = calc_entropy(p_r)\n",
    "\n",
    "            gain_ratio_value = h_x - (x_l.shape[0] / x.shape[0]) * h_x_l - (x_r.shape[0] / x.shape[0]) * h_x_r\n",
    "            if gain_ratio_value > max_gain_ratio:\n",
    "                max_gain_ratio = gain_ratio_value\n",
    "                best_value = value\n",
    "                res[column] = (best_value, gain_ratio_value)\n",
    "\n",
    "    return res"
   ]
  },
  {
   "cell_type": "code",
   "execution_count": 17,
   "id": "hCCAFw1dDFhY",
   "metadata": {
    "colab": {
     "base_uri": "https://localhost:8080/",
     "height": 206
    },
    "id": "hCCAFw1dDFhY",
    "outputId": "c4d0d7e3-2fe0-40ac-8949-2ee0a3784e0a"
   },
   "outputs": [
    {
     "data": {
      "text/html": [
       "<div>\n",
       "<style scoped>\n",
       "    .dataframe tbody tr th:only-of-type {\n",
       "        vertical-align: middle;\n",
       "    }\n",
       "\n",
       "    .dataframe tbody tr th {\n",
       "        vertical-align: top;\n",
       "    }\n",
       "\n",
       "    .dataframe thead th {\n",
       "        text-align: right;\n",
       "    }\n",
       "</style>\n",
       "<table border=\"1\" class=\"dataframe\">\n",
       "  <thead>\n",
       "    <tr style=\"text-align: right;\">\n",
       "      <th></th>\n",
       "      <th>Processor_Speed</th>\n",
       "      <th>RAM_Size</th>\n",
       "      <th>Storage_Capacity</th>\n",
       "      <th>Screen_Size</th>\n",
       "      <th>Weight</th>\n",
       "      <th>Price</th>\n",
       "      <th>Brand_Asus</th>\n",
       "      <th>Brand_Dell</th>\n",
       "      <th>Brand_HP</th>\n",
       "      <th>Brand_Lenovo</th>\n",
       "      <th>category</th>\n",
       "    </tr>\n",
       "  </thead>\n",
       "  <tbody>\n",
       "    <tr>\n",
       "      <th>0</th>\n",
       "      <td>3.830296</td>\n",
       "      <td>16</td>\n",
       "      <td>512</td>\n",
       "      <td>11.185147</td>\n",
       "      <td>2.641094</td>\n",
       "      <td>17395.093065</td>\n",
       "      <td>True</td>\n",
       "      <td>False</td>\n",
       "      <td>False</td>\n",
       "      <td>False</td>\n",
       "      <td>2</td>\n",
       "    </tr>\n",
       "    <tr>\n",
       "      <th>1</th>\n",
       "      <td>2.912833</td>\n",
       "      <td>4</td>\n",
       "      <td>1000</td>\n",
       "      <td>11.311372</td>\n",
       "      <td>3.260012</td>\n",
       "      <td>31607.605919</td>\n",
       "      <td>False</td>\n",
       "      <td>False</td>\n",
       "      <td>False</td>\n",
       "      <td>False</td>\n",
       "      <td>3</td>\n",
       "    </tr>\n",
       "    <tr>\n",
       "      <th>2</th>\n",
       "      <td>3.241627</td>\n",
       "      <td>4</td>\n",
       "      <td>256</td>\n",
       "      <td>11.853023</td>\n",
       "      <td>2.029061</td>\n",
       "      <td>9291.023542</td>\n",
       "      <td>False</td>\n",
       "      <td>False</td>\n",
       "      <td>False</td>\n",
       "      <td>True</td>\n",
       "      <td>1</td>\n",
       "    </tr>\n",
       "    <tr>\n",
       "      <th>3</th>\n",
       "      <td>3.806248</td>\n",
       "      <td>16</td>\n",
       "      <td>512</td>\n",
       "      <td>12.280360</td>\n",
       "      <td>4.573865</td>\n",
       "      <td>17436.728334</td>\n",
       "      <td>False</td>\n",
       "      <td>False</td>\n",
       "      <td>False</td>\n",
       "      <td>False</td>\n",
       "      <td>2</td>\n",
       "    </tr>\n",
       "    <tr>\n",
       "      <th>4</th>\n",
       "      <td>3.268097</td>\n",
       "      <td>32</td>\n",
       "      <td>1000</td>\n",
       "      <td>14.990877</td>\n",
       "      <td>4.193472</td>\n",
       "      <td>32917.990718</td>\n",
       "      <td>False</td>\n",
       "      <td>False</td>\n",
       "      <td>False</td>\n",
       "      <td>False</td>\n",
       "      <td>3</td>\n",
       "    </tr>\n",
       "  </tbody>\n",
       "</table>\n",
       "</div>"
      ],
      "text/plain": [
       "   Processor_Speed  RAM_Size  Storage_Capacity  Screen_Size    Weight  \\\n",
       "0         3.830296        16               512    11.185147  2.641094   \n",
       "1         2.912833         4              1000    11.311372  3.260012   \n",
       "2         3.241627         4               256    11.853023  2.029061   \n",
       "3         3.806248        16               512    12.280360  4.573865   \n",
       "4         3.268097        32              1000    14.990877  4.193472   \n",
       "\n",
       "          Price  Brand_Asus  Brand_Dell  Brand_HP  Brand_Lenovo category  \n",
       "0  17395.093065        True       False     False         False        2  \n",
       "1  31607.605919       False       False     False         False        3  \n",
       "2   9291.023542       False       False     False          True        1  \n",
       "3  17436.728334       False       False     False         False        2  \n",
       "4  32917.990718       False       False     False         False        3  "
      ]
     },
     "execution_count": 17,
     "metadata": {},
     "output_type": "execute_result"
    }
   ],
   "source": [
    "encoded_data.head()\n"
   ]
  },
  {
   "cell_type": "code",
   "execution_count": 18,
   "id": "t84f5pKYDLlB",
   "metadata": {
    "colab": {
     "base_uri": "https://localhost:8080/"
    },
    "id": "t84f5pKYDLlB",
    "outputId": "88524b69-44aa-476a-c951-b1b9ffcf4401"
   },
   "outputs": [
    {
     "name": "stdout",
     "output_type": "stream",
     "text": [
      "1.5822209588213898\n",
      "{'Processor_Speed': (1.756274319976698, 0.00628883326073848), 'RAM_Size': (4, 0.000909335591757543), 'Storage_Capacity': (256, 0.9401647521318282), 'Screen_Size': (16.95017644023471, 0.006316797475793834), 'Weight': (2.004931271337349, 0.005964909828616305), 'Brand_Asus': (False, 0.0018516384746549153), 'Brand_Dell': (False, 0.0014558439647834875), 'Brand_HP': (False, 0.002017598825981737), 'Brand_Lenovo': (False, 0.0020357351369605925)}\n"
     ]
    },
    {
     "data": {
      "text/plain": [
       "['Storage_Capacity',\n",
       " 'Processor_Speed',\n",
       " 'Brand_Asus',\n",
       " 'Brand_Dell',\n",
       " 'Brand_HP',\n",
       " 'Brand_Lenovo',\n",
       " 'Weight',\n",
       " 'Screen_Size',\n",
       " 'RAM_Size']"
      ]
     },
     "execution_count": 18,
     "metadata": {},
     "output_type": "execute_result"
    }
   ],
   "source": [
    "features_with_gains = gain_ratio(encoded_data, target_col=target, category_col=\"category\")\n",
    "print(features_with_gains)\n",
    "selected_gain_features = sorted(features_with_gains, key=lambda x: list(x)[1], reverse=True)\n",
    "selected_gain_features\n",
    "\n"
   ]
  }
 ],
 "metadata": {
  "colab": {
   "provenance": []
  },
  "kernelspec": {
   "display_name": "Python 3 (ipykernel)",
   "language": "python",
   "name": "python3"
  },
  "language_info": {
   "codemirror_mode": {
    "name": "ipython",
    "version": 3
   },
   "file_extension": ".py",
   "mimetype": "text/x-python",
   "name": "python",
   "nbconvert_exporter": "python",
   "pygments_lexer": "ipython3",
   "version": "3.11.4"
  }
 },
 "nbformat": 4,
 "nbformat_minor": 5
}
