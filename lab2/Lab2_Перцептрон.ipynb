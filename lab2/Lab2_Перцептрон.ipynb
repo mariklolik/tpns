{
 "cells": [
  {
   "cell_type": "code",
   "execution_count": 1,
   "metadata": {
    "colab": {
     "base_uri": "https://localhost:8080/"
    },
    "id": "mbV5-gmVtalC",
    "outputId": "6c8a2130-a91b-44ea-d788-e5170f4c33f1"
   },
   "outputs": [
    {
     "name": "stdout",
     "output_type": "stream",
     "text": [
      "Defaulting to user installation because normal site-packages is not writeable\n",
      "Requirement already satisfied: ucimlrepo in c:\\users\\marsh\\appdata\\roaming\\python\\python311\\site-packages (0.0.3)\n"
     ]
    },
    {
     "name": "stderr",
     "output_type": "stream",
     "text": [
      "DEPRECATION: wfuzz 3.1.0 has a non-standard dependency specifier pyparsing>=2.4*; python_version >= \"3.5\". pip 23.3 will enforce this behaviour change. A possible replacement is to upgrade to a newer version of wfuzz or contact the author to suggest that they release a version with a conforming dependency specifiers. Discussion can be found at https://github.com/pypa/pip/issues/12063\n"
     ]
    }
   ],
   "source": [
    "!pip install ucimlrepo"
   ]
  },
  {
   "cell_type": "code",
   "execution_count": 1,
   "metadata": {
    "id": "M13UBhxTtWji"
   },
   "outputs": [],
   "source": [
    "import numpy as np\n",
    "import pandas as pd\n",
    "from sklearn.model_selection import train_test_split\n",
    "from sklearn.metrics import r2_score, f1_score\n",
    "from sklearn.preprocessing import OneHotEncoder\n",
    "from ucimlrepo import fetch_ucirepo"
   ]
  },
  {
   "cell_type": "code",
   "execution_count": 3,
   "metadata": {
    "colab": {
     "base_uri": "https://localhost:8080/"
    },
    "id": "rwA56Rp4tVFA",
    "outputId": "25bd68ee-4e0e-4139-f44a-58d2b02aa6f7"
   },
   "outputs": [
    {
     "name": "stderr",
     "output_type": "stream",
     "text": [
      "C:\\Users\\marsh\\AppData\\Roaming\\Python\\Python311\\site-packages\\sklearn\\preprocessing\\_encoders.py:868: FutureWarning: `sparse` was renamed to `sparse_output` in version 1.2 and will be removed in 1.4. `sparse_output` is ignored unless you leave `sparse` to its default value.\n",
      "  warnings.warn(\n",
      "C:\\Users\\marsh\\AppData\\Roaming\\Python\\Python311\\site-packages\\sklearn\\preprocessing\\_encoders.py:868: FutureWarning: `sparse` was renamed to `sparse_output` in version 1.2 and will be removed in 1.4. `sparse_output` is ignored unless you leave `sparse` to its default value.\n",
      "  warnings.warn(\n"
     ]
    }
   ],
   "source": [
    "mushroom = fetch_ucirepo(id=73)\n",
    "\n",
    "x = mushroom.data.features[['gill-color', 'gill-size', 'ring-type']]\n",
    "y = mushroom.data.targets\n",
    "\n",
    "encoder = OneHotEncoder(sparse=False)\n",
    "x_encoded = encoder.fit_transform(x)\n",
    "y_encoded = encoder.fit_transform(y)\n",
    "\n",
    "x_train, x_test, y_train, y_test = train_test_split(x_encoded, y_encoded, test_size=0.2, random_state=42)"
   ]
  },
  {
   "cell_type": "code",
   "execution_count": 2,
   "metadata": {
    "id": "PdC9hEstKB2D"
   },
   "outputs": [],
   "source": [
    "import numpy as np\n",
    "import pandas as pd\n",
    "\n",
    "class Layer:\n",
    "    def __init__(self, input_size, output_size):\n",
    "        self.ws = 0.05\n",
    "        self.x = None\n",
    "        self.weights = None\n",
    "        self.output_size = output_size\n",
    "        if input_size is not None:\n",
    "            self.weights = np.random.randn(input_size, output_size) * self.ws\n",
    "        self.bias = np.zeros((1, output_size))\n",
    "\n",
    "    def forward(self, x):\n",
    "        if self.weights is None:\n",
    "            input_size = x.shape[-1]\n",
    "            self.weights = np.random.randn(input_size, self.output_size) * self.ws\n",
    "\n",
    "        self.x = x\n",
    "        output_data = np.dot(x, self.weights) + self.bias\n",
    "        return output_data\n",
    "\n",
    "    def backward(self, d_outputs, learning_rate):\n",
    "        dx = np.dot(d_outputs, self.weights.T)\n",
    "        dw = np.dot(self.x.T, d_outputs)\n",
    "        db = np.sum(d_outputs, axis=0)\n",
    "        self.weights -= learning_rate * dw\n",
    "        self.bias -= learning_rate * db\n",
    "        return dx"
   ]
  },
  {
   "cell_type": "code",
   "execution_count": 3,
   "metadata": {
    "id": "ctr5-NHP0-wo"
   },
   "outputs": [],
   "source": [
    "class ReLU:\n",
    "    def __init__(self):\n",
    "        self.output_data = None\n",
    "\n",
    "    def forward(self, input_data):\n",
    "        self.output_data = np.maximum(0, input_data)\n",
    "        return self.output_data\n",
    "\n",
    "    def backward(self, d_output, learning_rate):\n",
    "        return d_output * (self.output_data > 0)\n",
    "    "
   ]
  },
  {
   "cell_type": "code",
   "execution_count": 4,
   "metadata": {
    "id": "u2jdw01TxANl"
   },
   "outputs": [],
   "source": [
    "class Softmax:\n",
    "    def __init__(self):\n",
    "        self.output_data = None\n",
    "\n",
    "    def forward(self, input_data):\n",
    "        exp_values = np.exp(input_data - np.max(input_data, axis=-1, keepdims=True))\n",
    "        probabilities = exp_values / np.sum(exp_values, axis=-1, keepdims=True)\n",
    "        self.output_data = probabilities\n",
    "        return self.output_data\n",
    "\n",
    "    def backward(self, d_output, *params):\n",
    "        batch_size = d_output.shape[0]\n",
    "        dx = np.empty_like(d_output)\n",
    "\n",
    "        for i in range(batch_size):\n",
    "            softmax = self.output_data[i, :]\n",
    "            jacobian_matrix = np.diag(softmax) - np.outer(softmax, softmax)\n",
    "            dx[i] = np.dot(jacobian_matrix, d_output[i])\n",
    "\n",
    "        return dx"
   ]
  },
  {
   "cell_type": "code",
   "execution_count": 5,
   "metadata": {
    "id": "qSPpOdqBKGVh"
   },
   "outputs": [],
   "source": [
    "from tqdm import tqdm\n",
    "\n",
    "class NeuralNetwork:\n",
    "    def __init__(self, layers, loss_fn):\n",
    "        self.layers = layers\n",
    "        self.loss = loss_fn\n",
    "\n",
    "    def forward_propagation(self, X):\n",
    "        for layer in self.layers:\n",
    "            X = layer.forward(X)\n",
    "        return X\n",
    "\n",
    "    def backward(self, d_output, learning_rate):\n",
    "        for layer in reversed(self.layers):\n",
    "            d_output = layer.backward(d_output, learning_rate=learning_rate)\n",
    "\n",
    "    def fit(self, X, y, learning_rate, epochs, batch_size=50):\n",
    "        progress_bar = tqdm(total=epochs, desc=\"Training Progress\")\n",
    "\n",
    "        data_size = len(X)\n",
    "        for epoch in range(epochs):\n",
    "            indices = np.random.permutation(data_size)\n",
    "            x_train_data_shuffled = X[indices]\n",
    "            y_train_data_shuffled = y[indices]\n",
    "\n",
    "            mean_loss_train = 0.0\n",
    "            for batch_start in range(0, data_size, batch_size):\n",
    "                batch_end = min(batch_start + batch_size, data_size)\n",
    "                x_batch = x_train_data_shuffled[batch_start:batch_end]\n",
    "                y_batch = y_train_data_shuffled[batch_start:batch_end]\n",
    "\n",
    "                predictions_train = self.forward_propagation(x_batch)\n",
    "                mean_loss_train += self.loss(y_batch, predictions_train)\n",
    "                d_output_train = self.loss.backward(y_batch, predictions_train)\n",
    "                self.backward(d_output_train, learning_rate)\n",
    "\n",
    "            progress_bar.update(1)\n",
    "            progress_bar.set_postfix({\"Epoch\": epoch + 1, \"Train Mean Loss\": f\"{mean_loss_train / (data_size/batch_size):.4f}\"})\n",
    "\n",
    "    def predict(self, x):\n",
    "        output = self.forward_propagation(x)\n",
    "        return output"
   ]
  },
  {
   "cell_type": "code",
   "execution_count": 6,
   "metadata": {
    "id": "3BUnH9k4tFRP"
   },
   "outputs": [],
   "source": [
    "class LogLoss:\n",
    "    def __call__(self, y_true, y_pred):\n",
    "        eps = 1e-15\n",
    "        y_pred = np.clip(y_pred, eps, 1 - eps)\n",
    "        return -np.sum(y_true * np.log(y_pred)) / len(y_true)\n",
    "\n",
    "    def backward(self, y_true, y_pred):\n",
    "        eps = 1e-15\n",
    "        y_pred = np.clip(y_pred, eps, 1 - eps)\n",
    "        return -y_true / (y_pred * len(y_true))"
   ]
  },
  {
   "cell_type": "code",
   "execution_count": 7,
   "metadata": {
    "id": "qlqjzRuQtFRQ"
   },
   "outputs": [],
   "source": [
    "class MSE:\n",
    "    def __call__(self, y_true, y_pred):\n",
    "        return np.mean((y_true - y_pred) ** 2)\n",
    "\n",
    "    def backward(self, y_true, y_pred):\n",
    "        return 2 * (y_pred - y_true) / len(y_true)\n",
    "\n",
    "\n"
   ]
  },
  {
   "cell_type": "code",
   "execution_count": 8,
   "metadata": {
    "id": "yMXxiuO5tFRR"
   },
   "outputs": [],
   "source": [
    "from sklearn.datasets import make_classification, make_regression\n",
    "from sklearn.model_selection import train_test_split\n",
    "from sklearn.metrics import mean_absolute_error, log_loss, mean_squared_error"
   ]
  },
  {
   "cell_type": "markdown",
   "metadata": {
    "id": "7gGkXAf59KwW"
   },
   "source": [
    "# Классификация грибов 🍄🍄🍄😬😬😬"
   ]
  },
  {
   "cell_type": "code",
   "execution_count": 95,
   "metadata": {
    "colab": {
     "base_uri": "https://localhost:8080/"
    },
    "id": "fhRpHbv83X_c",
    "outputId": "a22a35d7-b6db-4fc9-a347-6af0da3f07d6"
   },
   "outputs": [
    {
     "name": "stderr",
     "output_type": "stream",
     "text": [
      "Training Progress: 100%|████████████████████████| 700/700 [01:38<00:00,  7.09it/s, Train Loss=0.228]\n"
     ]
    }
   ],
   "source": [
    "input_size = x_train.shape[1]\n",
    "output_size = y_train.shape[1]\n",
    "layers = [\n",
    "    Layer(input_size, 64),\n",
    "    ReLU(),\n",
    "    Layer(64, output_size),\n",
    "    Softmax()\n",
    "]\n",
    "\n",
    "model = NeuralNetwork(layers, LogLoss())\n",
    "\n",
    "model.fit(x_train, y_train, epochs=700, learning_rate=0.01)"
   ]
  },
  {
   "cell_type": "code",
   "execution_count": 100,
   "metadata": {
    "colab": {
     "base_uri": "https://localhost:8080/"
    },
    "id": "i0W0cBf07yor",
    "outputId": "ce872882-cf82-461c-dad7-0a25adca3940"
   },
   "outputs": [
    {
     "name": "stdout",
     "output_type": "stream",
     "text": [
      "F1 Score: 0.9242256781521986\n"
     ]
    }
   ],
   "source": [
    "predictions = model.predict(x_test)\n",
    "predicted_classes = np.argmax(predictions, axis=1)\n",
    "true_classes = np.argmax(y_test, axis=1)\n",
    "print(\"F1 Score:\", f1_score(true_classes, predicted_classes, average='weighted'))"
   ]
  },
  {
   "cell_type": "code",
   "execution_count": 87,
   "metadata": {
    "colab": {
     "base_uri": "https://localhost:8080/"
    },
    "id": "swbA8XsntFRW",
    "outputId": "173b9d5a-2fdf-46f7-ab44-abc3a05cf49d"
   },
   "outputs": [
    {
     "name": "stderr",
     "output_type": "stream",
     "text": [
      "Training Progress: 100%|████████████████████████| 700/700 [00:09<00:00, 75.32it/s, Train Loss=0.138]\n"
     ]
    }
   ],
   "source": [
    "import torch\n",
    "import torch.nn as nn\n",
    "import torch.optim as optim\n",
    "import pandas as pd\n",
    "from sklearn.metrics import f1_score\n",
    "from sklearn.model_selection import train_test_split\n",
    "from tqdm import tqdm\n",
    "\n",
    "x_train_tensor = torch.tensor(x_train, dtype=torch.float32)\n",
    "y_train_tensor = torch.tensor(y_train, dtype=torch.float32)\n",
    "\n",
    "class TorchModel(nn.Module):\n",
    "    def __init__(self, input_size, output_size):\n",
    "        super(NeuralNetwork, self).__init__()\n",
    "        self.layer1 = nn.Linear(input_size, 64)\n",
    "        self.relu = nn.ReLU()\n",
    "        self.layer2 = nn.Linear(64, output_size)\n",
    "        self.softmax = nn.Softmax(dim=1)\n",
    "\n",
    "    def forward(self, x):\n",
    "        x = self.layer1(x)\n",
    "        x = self.relu(x)\n",
    "        x = self.layer2(x)\n",
    "        x = self.softmax(x)\n",
    "        return x\n",
    "\n",
    "input_size = x_train.shape[1]\n",
    "output_size = y_train.shape[1]\n",
    "model = TorchModel(input_size, output_size)\n",
    "\n",
    "criterion = nn.BCELoss()\n",
    "optimizer = optim.Adam(model.parameters(), lr=0.01)\n",
    "\n",
    "epochs = 700\n",
    "with tqdm(total=epochs, desc=\"Training Progress\", ncols=100) as pbar:\n",
    "    for epoch in range(epochs):\n",
    "        model.train()\n",
    "\n",
    "        outputs = model(x_train_tensor)\n",
    "\n",
    "        loss = criterion(outputs, y_train_tensor)\n",
    "\n",
    "        optimizer.zero_grad()\n",
    "        loss.backward()\n",
    "        optimizer.step()\n",
    "\n",
    "        pbar.set_postfix({'Train Loss': loss.item()})\n",
    "        pbar.update(1)\n",
    "\n",
    "def predict(model, x):\n",
    "    model.eval()\n",
    "    with torch.no_grad():\n",
    "        outputs = model(x)\n",
    "    return outputs\n"
   ]
  },
  {
   "cell_type": "code",
   "execution_count": 88,
   "metadata": {
    "colab": {
     "base_uri": "https://localhost:8080/"
    },
    "id": "FHMZFnco7fAY",
    "outputId": "e3f0b005-baca-456c-8f74-dcb18fda58d2"
   },
   "outputs": [
    {
     "name": "stdout",
     "output_type": "stream",
     "text": [
      "F1 Score: 0.93414905103817\n"
     ]
    }
   ],
   "source": [
    "x_test_tensor = torch.tensor(x_test, dtype=torch.float32)\n",
    "y_test_tensor = torch.tensor(y_test, dtype=torch.float32)\n",
    "\n",
    "predictions = predict(model, x_test_tensor)\n",
    "predicted_classes = torch.argmax(predictions, dim=1).numpy()\n",
    "true_classes = torch.argmax(y_test_tensor, dim=1).numpy()\n",
    "print(\"F1 Score:\", f1_score(true_classes, predicted_classes, average='weighted'))"
   ]
  },
  {
   "cell_type": "markdown",
   "metadata": {
    "id": "HQrgAm1U9QeV"
   },
   "source": [
    "# Регрессия ноутбуков 💻💻💻"
   ]
  },
  {
   "cell_type": "code",
   "execution_count": 9,
   "metadata": {},
   "outputs": [],
   "source": [
    "data = pd.read_csv(\"Laptop_price.csv\")\n",
    "from sklearn.model_selection import train_test_split\n",
    "X_train, X_test, y_train, y_test = train_test_split(data.drop(['Price'], axis = 1), data['Price'], test_size = 0.2, random_state = 42)\n",
    "from category_encoders import TargetEncoder\n",
    "enc = TargetEncoder(return_df = True).fit(X_train['Brand'],  y_train)\n",
    "X_train['Brand'] = enc.transform(X_train['Brand'])\n",
    "X_test['Brand'] = enc.transform(X_test['Brand'])"
   ]
  },
  {
   "cell_type": "code",
   "execution_count": 58,
   "metadata": {},
   "outputs": [
    {
     "name": "stdout",
     "output_type": "stream",
     "text": [
      "MSE on test data: 78916.26315788536\n"
     ]
    }
   ],
   "source": [
    "from sklearn.neural_network import MLPRegressor\n",
    "from sklearn.metrics import mean_squared_error\n",
    "\n",
    "model = MLPRegressor(hidden_layer_sizes=(128), activation='relu', solver='adam', learning_rate='adaptive', learning_rate_init=0.01)\n",
    "\n",
    "model.fit(X_train, y_train)\n",
    "\n",
    "y_pred = model.predict(X_test)\n",
    "\n",
    "mse = mean_squared_error(y_test, y_pred)\n",
    "print(\"MSE on test data:\", mse)"
   ]
  },
  {
   "cell_type": "code",
   "execution_count": 60,
   "metadata": {},
   "outputs": [
    {
     "data": {
      "text/plain": [
       "<Axes: >"
      ]
     },
     "execution_count": 60,
     "metadata": {},
     "output_type": "execute_result"
    },
    {
     "data": {
      "image/png": "[encoded data removed]",
      "text/plain": [
       "<Figure size 640x480 with 1 Axes>"
      ]
     },
     "metadata": {},
     "output_type": "display_data"
    }
   ],
   "source": [
    "pd.DataFrame(model.loss_curve_).plot()"
   ]
  },
  {
   "cell_type": "code",
   "execution_count": 10,
   "metadata": {},
   "outputs": [],
   "source": [
    "X_train, X_test, y_train, y_test = X_train.values, X_test.values, y_train.values, y_test.values\n",
    "y_train, y_test = y_train.reshape((-1, 1)), y_test.reshape((-1, 1))"
   ]
  },
  {
   "cell_type": "code",
   "execution_count": 11,
   "metadata": {
    "id": "Q77MkBMM9fK2"
   },
   "outputs": [
    {
     "name": "stderr",
     "output_type": "stream",
     "text": [
      "Training Progress: 100%|████████████████| 1000/1000 [00:40<00:00, 24.41it/s, Epoch=1000, Train Mean Loss=87806088.7659]\n"
     ]
    }
   ],
   "source": [
    "input_size = X_train.shape[1]\n",
    "output_size = y_train.shape[1]\n",
    "layers = [\n",
    "    Layer(input_size, 128),\n",
    "    ReLU(),\n",
    "    Layer(128, 128),\n",
    "    ReLU(),\n",
    "    Layer(128, output_size),\n",
    "]\n",
    "\n",
    "model = NeuralNetwork(layers, MSE())\n",
    "\n",
    "model.fit(X_train, y_train, learning_rate=0.01, epochs=1000, batch_size=50)"
   ]
  },
  {
   "cell_type": "code",
   "execution_count": null,
   "metadata": {},
   "outputs": [],
   "source": []
  }
 ],
 "metadata": {
  "colab": {
   "provenance": []
  },
  "kernelspec": {
   "display_name": "Python 3 (ipykernel)",
   "language": "python",
   "name": "python3"
  },
  "language_info": {
   "codemirror_mode": {
    "name": "ipython",
    "version": 3
   },
   "file_extension": ".py",
   "mimetype": "text/x-python",
   "name": "python",
   "nbconvert_exporter": "python",
   "pygments_lexer": "ipython3",
   "version": "3.11.4"
  }
 },
 "nbformat": 4,
 "nbformat_minor": 1
}
